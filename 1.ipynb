{
 "cells": [
  {
   "cell_type": "code",
   "execution_count": 1,
   "id": "8189689b",
   "metadata": {},
   "outputs": [
    {
     "name": "stdout",
     "output_type": "stream",
     "text": [
      "Hello World\n"
     ]
    }
   ],
   "source": [
    "print(\"Hello World\")"
   ]
  },
  {
   "cell_type": "markdown",
   "id": "9db03257",
   "metadata": {},
   "source": [
    "Data Type:\n",
    "1. Numbers\n",
    "a)integers(ex: 1,2...,55,96000000...,-369)\n",
    "b)float(12.4,7.66...)\n",
    "c)complex( a+b*i)\n",
    "2.String(Sentence)(character data type)\n",
    "3.Boolean(0/1)\n",
    "4.None"
   ]
  },
  {
   "cell_type": "markdown",
   "id": "8b257a20",
   "metadata": {},
   "source": [
    "Variables:\n",
    "\n",
    "\n",
    "    "
   ]
  },
  {
   "cell_type": "code",
   "execution_count": 2,
   "id": "bf98760d",
   "metadata": {},
   "outputs": [
    {
     "data": {
      "text/plain": [
       "11"
      ]
     },
     "execution_count": 2,
     "metadata": {},
     "output_type": "execute_result"
    }
   ],
   "source": [
    "5+6"
   ]
  },
  {
   "cell_type": "code",
   "execution_count": 3,
   "id": "5d39af18",
   "metadata": {},
   "outputs": [
    {
     "name": "stdout",
     "output_type": "stream",
     "text": [
      "1999972327298\n",
      "1999925220196\n",
      "47105895439837425597\n",
      "84910.71149938283\n"
     ]
    }
   ],
   "source": [
    "x=1999948773747\n",
    "y=23553551\n",
    "print(x+y)\n",
    "print(x-y)\n",
    "print(x*y)\n",
    "print(x/y)"
   ]
  },
  {
   "cell_type": "code",
   "execution_count": 4,
   "id": "52212785",
   "metadata": {},
   "outputs": [
    {
     "name": "stdout",
     "output_type": "stream",
     "text": [
      "84910.71149938283\n"
     ]
    }
   ],
   "source": [
    "p = x/y\n",
    "print(p)"
   ]
  },
  {
   "cell_type": "code",
   "execution_count": 5,
   "id": "5f26cd56",
   "metadata": {},
   "outputs": [
    {
     "data": {
      "text/plain": [
       "47105895439837425597"
      ]
     },
     "execution_count": 5,
     "metadata": {},
     "output_type": "execute_result"
    }
   ],
   "source": [
    "x*y"
   ]
  },
  {
   "cell_type": "code",
   "execution_count": 6,
   "id": "410d5dfa",
   "metadata": {},
   "outputs": [
    {
     "data": {
      "text/plain": [
       "84910.71149938283"
      ]
     },
     "execution_count": 6,
     "metadata": {},
     "output_type": "execute_result"
    }
   ],
   "source": [
    "x/y"
   ]
  },
  {
   "cell_type": "code",
   "execution_count": 7,
   "id": "444d7f6c",
   "metadata": {},
   "outputs": [
    {
     "name": "stdout",
     "output_type": "stream",
     "text": [
      "Hello\n"
     ]
    }
   ],
   "source": [
    "a = \"Hello\" #chracter array\n",
    "print(a)"
   ]
  },
  {
   "cell_type": "code",
   "execution_count": 8,
   "id": "8e1755e5",
   "metadata": {},
   "outputs": [
    {
     "name": "stdout",
     "output_type": "stream",
     "text": [
      "<class 'str'>\n"
     ]
    }
   ],
   "source": [
    "print(type(a))"
   ]
  },
  {
   "cell_type": "code",
   "execution_count": 9,
   "id": "7ef0e895",
   "metadata": {},
   "outputs": [
    {
     "name": "stdout",
     "output_type": "stream",
     "text": [
      "<class 'int'>\n"
     ]
    }
   ],
   "source": [
    "print(type(x))"
   ]
  },
  {
   "cell_type": "code",
   "execution_count": 10,
   "id": "9acdbc7d",
   "metadata": {},
   "outputs": [
    {
     "name": "stdout",
     "output_type": "stream",
     "text": [
      "<class 'float'>\n"
     ]
    }
   ],
   "source": [
    "print(type(p))"
   ]
  },
  {
   "cell_type": "markdown",
   "id": "0db047c7",
   "metadata": {},
   "source": [
    "In other languages:\n",
    "    \n",
    "int a;\n",
    "float b;\n",
    "char c;"
   ]
  },
  {
   "cell_type": "code",
   "execution_count": 11,
   "id": "b83c08cd",
   "metadata": {},
   "outputs": [],
   "source": [
    "q = \"007\""
   ]
  },
  {
   "cell_type": "code",
   "execution_count": 12,
   "id": "c652a6a3",
   "metadata": {},
   "outputs": [],
   "source": [
    "x = 100\n",
    "y = 200"
   ]
  },
  {
   "cell_type": "code",
   "execution_count": 13,
   "id": "8aba309e",
   "metadata": {},
   "outputs": [
    {
     "name": "stdout",
     "output_type": "stream",
     "text": [
      "300\n"
     ]
    }
   ],
   "source": [
    "print(x+y)"
   ]
  },
  {
   "cell_type": "code",
   "execution_count": 14,
   "id": "2f92b954",
   "metadata": {},
   "outputs": [
    {
     "name": "stdout",
     "output_type": "stream",
     "text": [
      "1500\n"
     ]
    }
   ],
   "source": [
    "x = 500\n",
    "y = 1000\n",
    "print(x+y)"
   ]
  },
  {
   "cell_type": "code",
   "execution_count": 15,
   "id": "d1b9e294",
   "metadata": {},
   "outputs": [
    {
     "name": "stdout",
     "output_type": "stream",
     "text": [
      "Hello\n",
      "Hello\n"
     ]
    }
   ],
   "source": [
    "r = \"Hello\"\n",
    "print(r)\n",
    "print(\"Hello\")"
   ]
  },
  {
   "cell_type": "code",
   "execution_count": 16,
   "id": "27cf95f1",
   "metadata": {},
   "outputs": [
    {
     "name": "stdout",
     "output_type": "stream",
     "text": [
      "500\n",
      "600\n",
      "1100\n"
     ]
    }
   ],
   "source": [
    "x = int(input())\n",
    "y = int(input())\n",
    "print(x+y)"
   ]
  },
  {
   "cell_type": "code",
   "execution_count": 17,
   "id": "bc4e3e19",
   "metadata": {},
   "outputs": [
    {
     "name": "stdout",
     "output_type": "stream",
     "text": [
      "500\n"
     ]
    }
   ],
   "source": [
    "print(x%y)"
   ]
  },
  {
   "cell_type": "code",
   "execution_count": 18,
   "id": "92abdc8f",
   "metadata": {},
   "outputs": [],
   "source": [
    "l = [\"onion\",\"shampoo\",10,3.14,188] # 1,2,3,4,5 eqv= 0,1,2,3,4 #shift+enter"
   ]
  },
  {
   "cell_type": "code",
   "execution_count": 19,
   "id": "4cf50712",
   "metadata": {},
   "outputs": [],
   "source": [
    "l[1] = \"oil\""
   ]
  },
  {
   "cell_type": "code",
   "execution_count": 20,
   "id": "cbeeafa6",
   "metadata": {},
   "outputs": [
    {
     "name": "stdout",
     "output_type": "stream",
     "text": [
      "onion oil\n"
     ]
    }
   ],
   "source": [
    "print(l[0] +\" \"+ l[1])"
   ]
  },
  {
   "cell_type": "code",
   "execution_count": 21,
   "id": "77fa0866",
   "metadata": {},
   "outputs": [],
   "source": [
    "#array\n",
    "#list"
   ]
  },
  {
   "cell_type": "code",
   "execution_count": 22,
   "id": "8acb20fd",
   "metadata": {},
   "outputs": [],
   "source": [
    "pi = 3.14"
   ]
  },
  {
   "cell_type": "code",
   "execution_count": 23,
   "id": "b9f5bf8d",
   "metadata": {},
   "outputs": [
    {
     "name": "stdout",
     "output_type": "stream",
     "text": [
      "3.14\n"
     ]
    }
   ],
   "source": [
    "print(pi)"
   ]
  },
  {
   "cell_type": "code",
   "execution_count": 24,
   "id": "e14713bf",
   "metadata": {},
   "outputs": [
    {
     "name": "stdout",
     "output_type": "stream",
     "text": [
      "3.0\n"
     ]
    }
   ],
   "source": [
    "pi = 3.0\n",
    "print(pi)"
   ]
  },
  {
   "cell_type": "code",
   "execution_count": 25,
   "id": "7b09e0f9",
   "metadata": {},
   "outputs": [],
   "source": [
    "PI = 3.14"
   ]
  },
  {
   "cell_type": "code",
   "execution_count": 26,
   "id": "4adb1f47",
   "metadata": {},
   "outputs": [
    {
     "ename": "TypeError",
     "evalue": "'type' object is not subscriptable",
     "output_type": "error",
     "traceback": [
      "\u001b[1;31m---------------------------------------------------------------------------\u001b[0m",
      "\u001b[1;31mTypeError\u001b[0m                                 Traceback (most recent call last)",
      "\u001b[1;32m<ipython-input-26-bf85baa984c6>\u001b[0m in \u001b[0;36m<module>\u001b[1;34m\u001b[0m\n\u001b[1;32m----> 1\u001b[1;33m \u001b[0mprint\u001b[0m\u001b[1;33m(\u001b[0m\u001b[0mlist\u001b[0m\u001b[1;33m[\u001b[0m\u001b[1;33m-\u001b[0m\u001b[1;36m1\u001b[0m\u001b[1;33m]\u001b[0m\u001b[1;33m)\u001b[0m\u001b[1;33m\u001b[0m\u001b[1;33m\u001b[0m\u001b[0m\n\u001b[0m",
      "\u001b[1;31mTypeError\u001b[0m: 'type' object is not subscriptable"
     ]
    }
   ],
   "source": [
    "print(list[-1])"
   ]
  },
  {
   "cell_type": "code",
   "execution_count": 27,
   "id": "1ef9f063",
   "metadata": {},
   "outputs": [],
   "source": [
    "name = \"Someoneisverybeautiful\" #string is a collection of characters.(character array)"
   ]
  },
  {
   "cell_type": "code",
   "execution_count": null,
   "id": "a5da6764",
   "metadata": {},
   "outputs": [],
   "source": [
    "name[0]=Z"
   ]
  },
  {
   "cell_type": "code",
   "execution_count": 28,
   "id": "bdc8aa98",
   "metadata": {},
   "outputs": [
    {
     "name": "stdout",
     "output_type": "stream",
     "text": [
      "Wasim isverybeautiful\n"
     ]
    }
   ],
   "source": [
    "print(\"Wasim \" + name[7:])"
   ]
  },
  {
   "cell_type": "code",
   "execution_count": 29,
   "id": "383acea3",
   "metadata": {},
   "outputs": [
    {
     "name": "stdout",
     "output_type": "stream",
     "text": [
      "m\n"
     ]
    }
   ],
   "source": [
    "print(name[2])"
   ]
  },
  {
   "cell_type": "code",
   "execution_count": 30,
   "id": "fa7048c5",
   "metadata": {},
   "outputs": [
    {
     "data": {
      "text/plain": [
       "22"
      ]
     },
     "execution_count": 30,
     "metadata": {},
     "output_type": "execute_result"
    }
   ],
   "source": [
    "len(name)"
   ]
  },
  {
   "cell_type": "code",
   "execution_count": 31,
   "id": "25075364",
   "metadata": {},
   "outputs": [
    {
     "name": "stdout",
     "output_type": "stream",
     "text": [
      "l\n"
     ]
    }
   ],
   "source": [
    "print(name[-1])"
   ]
  },
  {
   "cell_type": "code",
   "execution_count": 32,
   "id": "9d0c48b0",
   "metadata": {},
   "outputs": [
    {
     "name": "stdout",
     "output_type": "stream",
     "text": [
      "Someoneisverybeautiful\n"
     ]
    }
   ],
   "source": [
    "print(name[0:50])"
   ]
  },
  {
   "cell_type": "code",
   "execution_count": 33,
   "id": "1df6af07",
   "metadata": {},
   "outputs": [
    {
     "name": "stdout",
     "output_type": "stream",
     "text": [
      "oneisvery\n"
     ]
    }
   ],
   "source": [
    "print(name[4:-9])"
   ]
  },
  {
   "cell_type": "code",
   "execution_count": 34,
   "id": "caa9a368",
   "metadata": {},
   "outputs": [],
   "source": [
    "#name[starting index:ending index]"
   ]
  },
  {
   "cell_type": "code",
   "execution_count": 35,
   "id": "05f5b288",
   "metadata": {},
   "outputs": [],
   "source": [
    "#string = immutable"
   ]
  },
  {
   "cell_type": "code",
   "execution_count": 36,
   "id": "83b9500d",
   "metadata": {},
   "outputs": [],
   "source": [
    "l = []"
   ]
  },
  {
   "cell_type": "code",
   "execution_count": 37,
   "id": "65f7d9c2",
   "metadata": {},
   "outputs": [],
   "source": [
    "# append()\n",
    "l.append(\"Tushar\")"
   ]
  },
  {
   "cell_type": "code",
   "execution_count": 38,
   "id": "f0ca9003",
   "metadata": {},
   "outputs": [
    {
     "name": "stdout",
     "output_type": "stream",
     "text": [
      "['Tushar']\n"
     ]
    }
   ],
   "source": [
    "print(l)"
   ]
  },
  {
   "cell_type": "code",
   "execution_count": 39,
   "id": "f7913b73",
   "metadata": {},
   "outputs": [],
   "source": [
    "l.append(\"Prokiti\")"
   ]
  },
  {
   "cell_type": "code",
   "execution_count": 40,
   "id": "d857a3b7",
   "metadata": {},
   "outputs": [
    {
     "name": "stdout",
     "output_type": "stream",
     "text": [
      "['Tushar', 'Prokiti']\n"
     ]
    }
   ],
   "source": [
    "print(l)"
   ]
  },
  {
   "cell_type": "code",
   "execution_count": 41,
   "id": "0bc5b234",
   "metadata": {},
   "outputs": [
    {
     "name": "stdout",
     "output_type": "stream",
     "text": [
      "['Pro', 'Tus', 'Pye', 'Nil', 'Shib', 'Was', 'deb']\n"
     ]
    }
   ],
   "source": [
    "name = [\"Pro\",\"Tus\",\"Pye\",\"Nil\",\"Shib\",\"Was\",\"deb\"] #how to define a list: 1. name of the list 2. = ,3. open and close 3rd bracket\n",
    "print(name)"
   ]
  },
  {
   "cell_type": "code",
   "execution_count": 42,
   "id": "3d83ee17",
   "metadata": {},
   "outputs": [],
   "source": [
    "roll = [1,2,3,4,5,6,7]"
   ]
  },
  {
   "cell_type": "code",
   "execution_count": 43,
   "id": "8bef0cc9",
   "metadata": {},
   "outputs": [],
   "source": [
    "name[0] = \"dis\""
   ]
  },
  {
   "cell_type": "code",
   "execution_count": 44,
   "id": "9aae15c4",
   "metadata": {},
   "outputs": [
    {
     "name": "stdout",
     "output_type": "stream",
     "text": [
      "['dis', 'Tus', 'Pye', 'Nil', 'Shib', 'Was', 'deb']\n"
     ]
    }
   ],
   "source": [
    "print(name)"
   ]
  },
  {
   "cell_type": "code",
   "execution_count": 45,
   "id": "fea453cb",
   "metadata": {},
   "outputs": [
    {
     "name": "stdout",
     "output_type": "stream",
     "text": [
      "31.400000000000002\n"
     ]
    }
   ],
   "source": [
    "print(2*PI*5)"
   ]
  },
  {
   "cell_type": "code",
   "execution_count": 46,
   "id": "12466f00",
   "metadata": {},
   "outputs": [
    {
     "name": "stdout",
     "output_type": "stream",
     "text": [
      "jd\n"
     ]
    }
   ],
   "source": [
    "newname = input()\n",
    "name.append(newname)"
   ]
  },
  {
   "cell_type": "code",
   "execution_count": 47,
   "id": "d46f364a",
   "metadata": {},
   "outputs": [
    {
     "name": "stdout",
     "output_type": "stream",
     "text": [
      "['dis', 'Tus', 'Pye', 'Nil', 'Shib', 'Was', 'deb', 'jd']\n"
     ]
    }
   ],
   "source": [
    "print(name)"
   ]
  },
  {
   "cell_type": "code",
   "execution_count": 52,
   "id": "5b20c855",
   "metadata": {},
   "outputs": [],
   "source": [
    "#a and b\n",
    "#a or b"
   ]
  },
  {
   "cell_type": "code",
   "execution_count": 53,
   "id": "2cf2b1ac",
   "metadata": {},
   "outputs": [],
   "source": [
    "a = True\n",
    "b = False"
   ]
  },
  {
   "cell_type": "code",
   "execution_count": 54,
   "id": "47a467cd",
   "metadata": {},
   "outputs": [
    {
     "name": "stdout",
     "output_type": "stream",
     "text": [
      "False\n"
     ]
    }
   ],
   "source": [
    "print(a and b) # in c language or = || , and = &&"
   ]
  },
  {
   "cell_type": "code",
   "execution_count": 55,
   "id": "6190b233",
   "metadata": {},
   "outputs": [
    {
     "name": "stdout",
     "output_type": "stream",
     "text": [
      "True\n"
     ]
    }
   ],
   "source": [
    "print(a or b)"
   ]
  },
  {
   "cell_type": "code",
   "execution_count": 67,
   "id": "259cc2ca",
   "metadata": {},
   "outputs": [
    {
     "name": "stdout",
     "output_type": "stream",
     "text": [
      "This True\n",
      "4\n"
     ]
    }
   ],
   "source": [
    "#if else syntax\n",
    "if (5<10):\n",
    "    print(\"This True\")\n",
    "else:\n",
    "    print(\"This False\")\n",
    "    print(\"New True\")\n",
    "    \n",
    "print(4)\n",
    "#humare yaha aisa hi hota hai"
   ]
  },
  {
   "cell_type": "code",
   "execution_count": null,
   "id": "8d1a95bd",
   "metadata": {},
   "outputs": [],
   "source": []
  },
  {
   "cell_type": "code",
   "execution_count": null,
   "id": "89b17cc5",
   "metadata": {},
   "outputs": [],
   "source": []
  }
 ],
 "metadata": {
  "kernelspec": {
   "display_name": "Python 3",
   "language": "python",
   "name": "python3"
  },
  "language_info": {
   "codemirror_mode": {
    "name": "ipython",
    "version": 3
   },
   "file_extension": ".py",
   "mimetype": "text/x-python",
   "name": "python",
   "nbconvert_exporter": "python",
   "pygments_lexer": "ipython3",
   "version": "3.8.4"
  }
 },
 "nbformat": 4,
 "nbformat_minor": 5
}
